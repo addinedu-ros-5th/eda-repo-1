{
 "cells": [
  {
   "cell_type": "code",
   "execution_count": null,
   "metadata": {},
   "outputs": [],
   "source": [
    "import pandas as pd\n",
    "from tqdm import tqdm\n",
    "import numpy as np"
   ]
  },
  {
   "cell_type": "code",
   "execution_count": null,
   "metadata": {},
   "outputs": [],
   "source": [
    "Keywords = [\n",
    "    'teamId',\n",
    "    'summonerName',\n",
    "    'individualPosition',\n",
    "    'lane',\n",
    "    'championId',\n",
    "    'championName',\n",
    "    'champLevel',\n",
    "    \n",
    "    ###### KDA\n",
    "    'kills',\n",
    "    'deaths',\n",
    "    'assists',\n",
    "\n",
    "    ###### Pings\n",
    "    'commandPings',\n",
    "    'assistMePings',\n",
    "    'enemyMissingPings',\n",
    "    'getBackPings',\n",
    "    'dangerPings',\n",
    "    'onMyWayPings',\n",
    "\n",
    "    ####### vision\n",
    "    'visionScore',\n",
    "\n",
    "    #gamedata\n",
    "    'win'\n",
    "]\n",
    "\n",
    "challenge_Keywords = [\n",
    "    'stealthWardsPlaced',\n",
    "    'controlWardsPlaced',\n",
    "]\n",
    "\n",
    "team_keywords = [\n",
    "    'baron',\n",
    "    'dragon',\n",
    "    'horde',\n",
    "    'riftHerald',\n",
    "    'tower'\n",
    "]"
   ]
  },
  {
   "cell_type": "code",
   "execution_count": null,
   "metadata": {},
   "outputs": [],
   "source": [
    "# match_list : all match data list suit for riot api response\n",
    "# match_data : each match data\n",
    "# match_info : match information\n",
    "# match_user_data, match_team_data : each user data, team data\n",
    "# match_result : all_data\n",
    "\n",
    "\n",
    "all_match_result = []\n",
    "df_all_match_result = pd.DataFrame(all_match_result)\n",
    "\n",
    "for n in tqdm(range(len(match_data))) :\n",
    "\n",
    "    match_result = []\n",
    "    match_info = match_data[n]['info']\n",
    "    match_result.append([match_data[n]['metadata']['matchId']] * 10)\n",
    "\n",
    "    for each in Keywords :\n",
    "\n",
    "        match_user_data = [participant[each] for participant in match_info['participants']]\n",
    "        match_result.append(match_user_data)\n",
    "\n",
    "    for each in challenge_Keywords :\n",
    "        match_ward_data = []\n",
    "        for i in range(len(match_info['participants'])) :\n",
    "            participant = match_info['participants'][i]\n",
    "            if 'challenges' in participant : data = participant['challenges'][each]\n",
    "            else : data = 0\n",
    "            match_ward_data.append(data)\n",
    "        match_result.append(match_ward_data)\n",
    "\n",
    "    for each in team_keywords :\n",
    "        if each in match_info['teams'][0]['objectives'] :\n",
    "            match_team_data = [match_info['teams'][0]['objectives'][each]['first']]*5 + [match_info['teams'][1]['objectives'][each]['first']]*5\n",
    "        else : \n",
    "            match_team_data = [None]*10\n",
    "        match_result.append(match_team_data)\n",
    "    \n",
    "    df_match_result = pd.DataFrame(match_result)\n",
    "    df_all_match_result = pd.concat([df_all_match_result,df_match_result], axis=1)\n"
   ]
  },
  {
   "cell_type": "code",
   "execution_count": null,
   "metadata": {},
   "outputs": [],
   "source": [
    "DF = df_all_match_result.transpose()\n",
    "DF.reset_index(drop=True, inplace=True)\n",
    "DF.columns = ['matchId'] + Keywords + challenge_Keywords + team_keywords\n",
    "DF"
   ]
  }
 ],
 "metadata": {
  "kernelspec": {
   "display_name": "eda_venv",
   "language": "python",
   "name": "python3"
  },
  "language_info": {
   "codemirror_mode": {
    "name": "ipython",
    "version": 3
   },
   "file_extension": ".py",
   "mimetype": "text/x-python",
   "name": "python",
   "nbconvert_exporter": "python",
   "pygments_lexer": "ipython3",
   "version": "3.10.12"
  }
 },
 "nbformat": 4,
 "nbformat_minor": 2
}
