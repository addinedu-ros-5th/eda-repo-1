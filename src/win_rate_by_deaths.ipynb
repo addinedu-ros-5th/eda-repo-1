{
 "cells": [
  {
   "cell_type": "code",
   "execution_count": null,
   "metadata": {},
   "outputs": [],
   "source": [
    "import matplotlib.pyplot as plt\n",
    "import pandas as pd\n",
    "import numpy as np\n",
    "import math\n",
    "import mysql.connector"
   ]
  },
  {
   "cell_type": "code",
   "execution_count": null,
   "metadata": {},
   "outputs": [],
   "source": [
    "eda = mysql.connector.Connect(\n",
    "    host = \"database-1.c96mmei8egml.ap-northeast-2.rds.amazonaws.com\",\n",
    "    port = \"3306\",\n",
    "    user = \"eda_hb\",\n",
    "    password = \"hb\",\n",
    "    database = \"eda_project\"\n",
    ")\n",
    "cursor = eda.cursor()"
   ]
  },
  {
   "cell_type": "code",
   "execution_count": null,
   "metadata": {},
   "outputs": [],
   "source": [
    "cursor.execute(\"SELECT matchId, teamId,deaths,win FROM match_data Group By matchId, teamId\" )\n",
    "result = cursor.fetchall()\n",
    "for result_iterator in result:\n",
    "    print(result_iterator)"
   ]
  },
  {
   "cell_type": "code",
   "execution_count": null,
   "metadata": {},
   "outputs": [],
   "source": [
    "df = pd.DataFrame(result)\n",
    "df.columns = ['matchId', 'teamId', 'deaths', 'win']\n",
    "df.dropna(axis=0)\n",
    "df.sort_values('deaths', ascending=False)"
   ]
  },
  {
   "cell_type": "code",
   "execution_count": null,
   "metadata": {},
   "outputs": [],
   "source": [
    "graph = df.groupby(['deaths']).apply(lambda x: x['win'].mean()).reset_index(name='win_rate')\n",
    "\n",
    "graph"
   ]
  },
  {
   "cell_type": "code",
   "execution_count": null,
   "metadata": {},
   "outputs": [],
   "source": [
    "plt.plot(graph['deaths'], graph['win_rate'])\n",
    "plt.title(\"Win rate by deaths\", fontsize=25)\n",
    "plt.xlabel(\"deaths\")\n",
    "plt.ylim(0, 1)\n",
    "plt.ylabel(\"win rate\")\n",
    "plt.axhline(y=0.5, color='r', linestyle='--')\n",
    "plt.axvline(x=4.5, color='r', linestyle='--')\n",
    "plt.show()"
   ]
  },
  {
   "cell_type": "code",
   "execution_count": null,
   "metadata": {},
   "outputs": [],
   "source": []
  }
 ],
 "metadata": {
  "kernelspec": {
   "display_name": "eda_venv",
   "language": "python",
   "name": "python3"
  },
  "language_info": {
   "codemirror_mode": {
    "name": "ipython",
    "version": 3
   },
   "file_extension": ".py",
   "mimetype": "text/x-python",
   "name": "python",
   "nbconvert_exporter": "python",
   "pygments_lexer": "ipython3",
   "version": "3.10.12"
  }
 },
 "nbformat": 4,
 "nbformat_minor": 2
}
