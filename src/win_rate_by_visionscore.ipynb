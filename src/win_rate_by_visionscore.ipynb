{
 "cells": [
  {
   "cell_type": "code",
   "execution_count": 4,
   "metadata": {},
   "outputs": [],
   "source": [
    "import mysql.connector\n",
    "import pandas as pd\n",
    "import matplotlib.pyplot as plt\n",
    "import koreanize_matplotlib\n",
    "import seaborn as sns"
   ]
  },
  {
   "cell_type": "code",
   "execution_count": 5,
   "metadata": {},
   "outputs": [],
   "source": [
    "# 데이터베이스에 연결\n",
    "conn = mysql.connector.connect(\n",
    "    host=\"database-1.c96mmei8egml.ap-northeast-2.rds.amazonaws.com\",\n",
    "    user=\"eda_hb\",\n",
    "    password=\"hb\",\n",
    "    database=\"eda_project\"\n",
    ")\n",
    "\n",
    "# 커서 생성\n",
    "cursor = conn.cursor(buffered=True)\n",
    "\n",
    "# 쿼리 실행\n",
    "cursor.execute(\"SELECT * FROM match_data\")\n",
    "\n",
    "# 결과 가져오기\n",
    "results = cursor.fetchall()"
   ]
  },
  {
   "cell_type": "code",
   "execution_count": 6,
   "metadata": {},
   "outputs": [
    {
     "data": {
      "text/html": [
       "<div>\n",
       "<style scoped>\n",
       "    .dataframe tbody tr th:only-of-type {\n",
       "        vertical-align: middle;\n",
       "    }\n",
       "\n",
       "    .dataframe tbody tr th {\n",
       "        vertical-align: top;\n",
       "    }\n",
       "\n",
       "    .dataframe thead th {\n",
       "        text-align: right;\n",
       "    }\n",
       "</style>\n",
       "<table border=\"1\" class=\"dataframe\">\n",
       "  <thead>\n",
       "    <tr style=\"text-align: right;\">\n",
       "      <th></th>\n",
       "      <th>0</th>\n",
       "      <th>1</th>\n",
       "      <th>2</th>\n",
       "      <th>3</th>\n",
       "      <th>4</th>\n",
       "      <th>5</th>\n",
       "      <th>6</th>\n",
       "      <th>7</th>\n",
       "      <th>8</th>\n",
       "      <th>9</th>\n",
       "      <th>...</th>\n",
       "      <th>17</th>\n",
       "      <th>18</th>\n",
       "      <th>19</th>\n",
       "      <th>20</th>\n",
       "      <th>21</th>\n",
       "      <th>22</th>\n",
       "      <th>23</th>\n",
       "      <th>24</th>\n",
       "      <th>25</th>\n",
       "      <th>26</th>\n",
       "    </tr>\n",
       "  </thead>\n",
       "  <tbody>\n",
       "    <tr>\n",
       "      <th>0</th>\n",
       "      <td>KR_6878880250</td>\n",
       "      <td>100.0</td>\n",
       "      <td>사이다500ml</td>\n",
       "      <td>TOP</td>\n",
       "      <td>TOP</td>\n",
       "      <td>24.0</td>\n",
       "      <td>Jax</td>\n",
       "      <td>17.0</td>\n",
       "      <td>13.0</td>\n",
       "      <td>7.0</td>\n",
       "      <td>...</td>\n",
       "      <td>18.0</td>\n",
       "      <td>0.0</td>\n",
       "      <td>10.0</td>\n",
       "      <td>0.0</td>\n",
       "      <td>1</td>\n",
       "      <td>0</td>\n",
       "      <td>0.0</td>\n",
       "      <td>0</td>\n",
       "      <td>0</td>\n",
       "      <td>low</td>\n",
       "    </tr>\n",
       "    <tr>\n",
       "      <th>1</th>\n",
       "      <td>KR_6878880250</td>\n",
       "      <td>100.0</td>\n",
       "      <td>재수하는05</td>\n",
       "      <td>JUNGLE</td>\n",
       "      <td>JUNGLE</td>\n",
       "      <td>64.0</td>\n",
       "      <td>LeeSin</td>\n",
       "      <td>16.0</td>\n",
       "      <td>7.0</td>\n",
       "      <td>12.0</td>\n",
       "      <td>...</td>\n",
       "      <td>31.0</td>\n",
       "      <td>0.0</td>\n",
       "      <td>7.0</td>\n",
       "      <td>4.0</td>\n",
       "      <td>1</td>\n",
       "      <td>0</td>\n",
       "      <td>0.0</td>\n",
       "      <td>0</td>\n",
       "      <td>0</td>\n",
       "      <td>low</td>\n",
       "    </tr>\n",
       "    <tr>\n",
       "      <th>2</th>\n",
       "      <td>KR_6878880250</td>\n",
       "      <td>100.0</td>\n",
       "      <td>프랑말</td>\n",
       "      <td>MIDDLE</td>\n",
       "      <td>MIDDLE</td>\n",
       "      <td>20.0</td>\n",
       "      <td>Nunu</td>\n",
       "      <td>16.0</td>\n",
       "      <td>6.0</td>\n",
       "      <td>7.0</td>\n",
       "      <td>...</td>\n",
       "      <td>14.0</td>\n",
       "      <td>0.0</td>\n",
       "      <td>1.0</td>\n",
       "      <td>1.0</td>\n",
       "      <td>1</td>\n",
       "      <td>0</td>\n",
       "      <td>0.0</td>\n",
       "      <td>0</td>\n",
       "      <td>0</td>\n",
       "      <td>low</td>\n",
       "    </tr>\n",
       "    <tr>\n",
       "      <th>3</th>\n",
       "      <td>KR_6878880250</td>\n",
       "      <td>100.0</td>\n",
       "      <td>우우리</td>\n",
       "      <td>BOTTOM</td>\n",
       "      <td>BOTTOM</td>\n",
       "      <td>145.0</td>\n",
       "      <td>Kaisa</td>\n",
       "      <td>16.0</td>\n",
       "      <td>6.0</td>\n",
       "      <td>6.0</td>\n",
       "      <td>...</td>\n",
       "      <td>25.0</td>\n",
       "      <td>0.0</td>\n",
       "      <td>7.0</td>\n",
       "      <td>1.0</td>\n",
       "      <td>1</td>\n",
       "      <td>0</td>\n",
       "      <td>0.0</td>\n",
       "      <td>0</td>\n",
       "      <td>0</td>\n",
       "      <td>low</td>\n",
       "    </tr>\n",
       "    <tr>\n",
       "      <th>4</th>\n",
       "      <td>KR_6878880250</td>\n",
       "      <td>100.0</td>\n",
       "      <td>애LI 어른이LI</td>\n",
       "      <td>SUPPORT</td>\n",
       "      <td>BOTTOM</td>\n",
       "      <td>12.0</td>\n",
       "      <td>Alistar</td>\n",
       "      <td>14.0</td>\n",
       "      <td>0.0</td>\n",
       "      <td>11.0</td>\n",
       "      <td>...</td>\n",
       "      <td>65.0</td>\n",
       "      <td>0.0</td>\n",
       "      <td>29.0</td>\n",
       "      <td>8.0</td>\n",
       "      <td>1</td>\n",
       "      <td>0</td>\n",
       "      <td>0.0</td>\n",
       "      <td>0</td>\n",
       "      <td>0</td>\n",
       "      <td>low</td>\n",
       "    </tr>\n",
       "    <tr>\n",
       "      <th>...</th>\n",
       "      <td>...</td>\n",
       "      <td>...</td>\n",
       "      <td>...</td>\n",
       "      <td>...</td>\n",
       "      <td>...</td>\n",
       "      <td>...</td>\n",
       "      <td>...</td>\n",
       "      <td>...</td>\n",
       "      <td>...</td>\n",
       "      <td>...</td>\n",
       "      <td>...</td>\n",
       "      <td>...</td>\n",
       "      <td>...</td>\n",
       "      <td>...</td>\n",
       "      <td>...</td>\n",
       "      <td>...</td>\n",
       "      <td>...</td>\n",
       "      <td>...</td>\n",
       "      <td>...</td>\n",
       "      <td>...</td>\n",
       "      <td>...</td>\n",
       "    </tr>\n",
       "    <tr>\n",
       "      <th>340165</th>\n",
       "      <td>KR_6726690488</td>\n",
       "      <td>200.0</td>\n",
       "      <td>피즈는 물귀신</td>\n",
       "      <td>TOP</td>\n",
       "      <td>NONE</td>\n",
       "      <td>164.0</td>\n",
       "      <td>Camille</td>\n",
       "      <td>11.0</td>\n",
       "      <td>2.0</td>\n",
       "      <td>3.0</td>\n",
       "      <td>...</td>\n",
       "      <td>1.0</td>\n",
       "      <td>0.0</td>\n",
       "      <td>1.0</td>\n",
       "      <td>0.0</td>\n",
       "      <td>0</td>\n",
       "      <td>0</td>\n",
       "      <td>NaN</td>\n",
       "      <td>0</td>\n",
       "      <td>0</td>\n",
       "      <td>high</td>\n",
       "    </tr>\n",
       "    <tr>\n",
       "      <th>340166</th>\n",
       "      <td>KR_6726690488</td>\n",
       "      <td>200.0</td>\n",
       "      <td>서렌안치면탑먹음</td>\n",
       "      <td>JUNGLE</td>\n",
       "      <td>NONE</td>\n",
       "      <td>141.0</td>\n",
       "      <td>Kayn</td>\n",
       "      <td>8.0</td>\n",
       "      <td>1.0</td>\n",
       "      <td>7.0</td>\n",
       "      <td>...</td>\n",
       "      <td>10.0</td>\n",
       "      <td>0.0</td>\n",
       "      <td>1.0</td>\n",
       "      <td>1.0</td>\n",
       "      <td>0</td>\n",
       "      <td>0</td>\n",
       "      <td>NaN</td>\n",
       "      <td>0</td>\n",
       "      <td>0</td>\n",
       "      <td>high</td>\n",
       "    </tr>\n",
       "    <tr>\n",
       "      <th>340167</th>\n",
       "      <td>KR_6726690488</td>\n",
       "      <td>200.0</td>\n",
       "      <td>용랴이</td>\n",
       "      <td>MIDDLE</td>\n",
       "      <td>NONE</td>\n",
       "      <td>517.0</td>\n",
       "      <td>Sylas</td>\n",
       "      <td>10.0</td>\n",
       "      <td>2.0</td>\n",
       "      <td>7.0</td>\n",
       "      <td>...</td>\n",
       "      <td>5.0</td>\n",
       "      <td>0.0</td>\n",
       "      <td>4.0</td>\n",
       "      <td>0.0</td>\n",
       "      <td>0</td>\n",
       "      <td>0</td>\n",
       "      <td>NaN</td>\n",
       "      <td>0</td>\n",
       "      <td>0</td>\n",
       "      <td>high</td>\n",
       "    </tr>\n",
       "    <tr>\n",
       "      <th>340168</th>\n",
       "      <td>KR_6726690488</td>\n",
       "      <td>200.0</td>\n",
       "      <td>타버릴 때까지</td>\n",
       "      <td>BOTTOM</td>\n",
       "      <td>NONE</td>\n",
       "      <td>202.0</td>\n",
       "      <td>Jhin</td>\n",
       "      <td>9.0</td>\n",
       "      <td>1.0</td>\n",
       "      <td>3.0</td>\n",
       "      <td>...</td>\n",
       "      <td>5.0</td>\n",
       "      <td>0.0</td>\n",
       "      <td>5.0</td>\n",
       "      <td>0.0</td>\n",
       "      <td>0</td>\n",
       "      <td>0</td>\n",
       "      <td>NaN</td>\n",
       "      <td>0</td>\n",
       "      <td>0</td>\n",
       "      <td>high</td>\n",
       "    </tr>\n",
       "    <tr>\n",
       "      <th>340169</th>\n",
       "      <td>KR_6726690488</td>\n",
       "      <td>200.0</td>\n",
       "      <td>하루종일</td>\n",
       "      <td>SUPPORT</td>\n",
       "      <td>NONE</td>\n",
       "      <td>63.0</td>\n",
       "      <td>Brand</td>\n",
       "      <td>7.0</td>\n",
       "      <td>0.0</td>\n",
       "      <td>6.0</td>\n",
       "      <td>...</td>\n",
       "      <td>15.0</td>\n",
       "      <td>0.0</td>\n",
       "      <td>6.0</td>\n",
       "      <td>1.0</td>\n",
       "      <td>0</td>\n",
       "      <td>0</td>\n",
       "      <td>NaN</td>\n",
       "      <td>0</td>\n",
       "      <td>0</td>\n",
       "      <td>high</td>\n",
       "    </tr>\n",
       "  </tbody>\n",
       "</table>\n",
       "<p>340170 rows × 27 columns</p>\n",
       "</div>"
      ],
      "text/plain": [
       "                   0      1          2        3       4      5        6   \\\n",
       "0       KR_6878880250  100.0   사이다500ml      TOP     TOP   24.0      Jax   \n",
       "1       KR_6878880250  100.0     재수하는05   JUNGLE  JUNGLE   64.0   LeeSin   \n",
       "2       KR_6878880250  100.0        프랑말   MIDDLE  MIDDLE   20.0     Nunu   \n",
       "3       KR_6878880250  100.0        우우리   BOTTOM  BOTTOM  145.0    Kaisa   \n",
       "4       KR_6878880250  100.0  애LI 어른이LI  SUPPORT  BOTTOM   12.0  Alistar   \n",
       "...               ...    ...        ...      ...     ...    ...      ...   \n",
       "340165  KR_6726690488  200.0    피즈는 물귀신      TOP    NONE  164.0  Camille   \n",
       "340166  KR_6726690488  200.0   서렌안치면탑먹음   JUNGLE    NONE  141.0     Kayn   \n",
       "340167  KR_6726690488  200.0        용랴이   MIDDLE    NONE  517.0    Sylas   \n",
       "340168  KR_6726690488  200.0    타버릴 때까지   BOTTOM    NONE  202.0     Jhin   \n",
       "340169  KR_6726690488  200.0       하루종일  SUPPORT    NONE   63.0    Brand   \n",
       "\n",
       "          7     8     9   ...    17   18    19   20  21  22   23  24  25    26  \n",
       "0       17.0  13.0   7.0  ...  18.0  0.0  10.0  0.0   1   0  0.0   0   0   low  \n",
       "1       16.0   7.0  12.0  ...  31.0  0.0   7.0  4.0   1   0  0.0   0   0   low  \n",
       "2       16.0   6.0   7.0  ...  14.0  0.0   1.0  1.0   1   0  0.0   0   0   low  \n",
       "3       16.0   6.0   6.0  ...  25.0  0.0   7.0  1.0   1   0  0.0   0   0   low  \n",
       "4       14.0   0.0  11.0  ...  65.0  0.0  29.0  8.0   1   0  0.0   0   0   low  \n",
       "...      ...   ...   ...  ...   ...  ...   ...  ...  ..  ..  ...  ..  ..   ...  \n",
       "340165  11.0   2.0   3.0  ...   1.0  0.0   1.0  0.0   0   0  NaN   0   0  high  \n",
       "340166   8.0   1.0   7.0  ...  10.0  0.0   1.0  1.0   0   0  NaN   0   0  high  \n",
       "340167  10.0   2.0   7.0  ...   5.0  0.0   4.0  0.0   0   0  NaN   0   0  high  \n",
       "340168   9.0   1.0   3.0  ...   5.0  0.0   5.0  0.0   0   0  NaN   0   0  high  \n",
       "340169   7.0   0.0   6.0  ...  15.0  0.0   6.0  1.0   0   0  NaN   0   0  high  \n",
       "\n",
       "[340170 rows x 27 columns]"
      ]
     },
     "execution_count": 6,
     "metadata": {},
     "output_type": "execute_result"
    }
   ],
   "source": [
    "df = pd.DataFrame(results)\n",
    "\n",
    "df"
   ]
  },
  {
   "cell_type": "markdown",
   "metadata": {},
   "source": [
    "# Total vision score"
   ]
  },
  {
   "cell_type": "code",
   "execution_count": 7,
   "metadata": {},
   "outputs": [],
   "source": [
    "cursor.execute(\"SELECT AVG(visionscore) from match_data where win like '1'\")\n",
    "\n",
    "re = cursor.fetchall()"
   ]
  },
  {
   "cell_type": "code",
   "execution_count": 8,
   "metadata": {},
   "outputs": [
    {
     "data": {
      "text/html": [
       "<div>\n",
       "<style scoped>\n",
       "    .dataframe tbody tr th:only-of-type {\n",
       "        vertical-align: middle;\n",
       "    }\n",
       "\n",
       "    .dataframe tbody tr th {\n",
       "        vertical-align: top;\n",
       "    }\n",
       "\n",
       "    .dataframe thead th {\n",
       "        text-align: right;\n",
       "    }\n",
       "</style>\n",
       "<table border=\"1\" class=\"dataframe\">\n",
       "  <thead>\n",
       "    <tr style=\"text-align: right;\">\n",
       "      <th></th>\n",
       "      <th>0</th>\n",
       "    </tr>\n",
       "  </thead>\n",
       "  <tbody>\n",
       "    <tr>\n",
       "      <th>0</th>\n",
       "      <td>28.4328</td>\n",
       "    </tr>\n",
       "  </tbody>\n",
       "</table>\n",
       "</div>"
      ],
      "text/plain": [
       "         0\n",
       "0  28.4328"
      ]
     },
     "execution_count": 8,
     "metadata": {},
     "output_type": "execute_result"
    }
   ],
   "source": [
    "win = pd.DataFrame(re)\n",
    "\n",
    "win"
   ]
  },
  {
   "cell_type": "code",
   "execution_count": 9,
   "metadata": {},
   "outputs": [],
   "source": [
    "cursor.execute(\"SELECT AVG(visionscore) from match_data where win like '0'\")\n",
    "\n",
    "re2 = cursor.fetchall()"
   ]
  },
  {
   "cell_type": "code",
   "execution_count": 10,
   "metadata": {},
   "outputs": [
    {
     "data": {
      "text/html": [
       "<div>\n",
       "<style scoped>\n",
       "    .dataframe tbody tr th:only-of-type {\n",
       "        vertical-align: middle;\n",
       "    }\n",
       "\n",
       "    .dataframe tbody tr th {\n",
       "        vertical-align: top;\n",
       "    }\n",
       "\n",
       "    .dataframe thead th {\n",
       "        text-align: right;\n",
       "    }\n",
       "</style>\n",
       "<table border=\"1\" class=\"dataframe\">\n",
       "  <thead>\n",
       "    <tr style=\"text-align: right;\">\n",
       "      <th></th>\n",
       "      <th>0</th>\n",
       "    </tr>\n",
       "  </thead>\n",
       "  <tbody>\n",
       "    <tr>\n",
       "      <th>0</th>\n",
       "      <td>25.3821</td>\n",
       "    </tr>\n",
       "  </tbody>\n",
       "</table>\n",
       "</div>"
      ],
      "text/plain": [
       "         0\n",
       "0  25.3821"
      ]
     },
     "execution_count": 10,
     "metadata": {},
     "output_type": "execute_result"
    }
   ],
   "source": [
    "lose = pd.DataFrame(re2)\n",
    "\n",
    "lose"
   ]
  },
  {
   "cell_type": "code",
   "execution_count": 11,
   "metadata": {},
   "outputs": [],
   "source": [
    "merge_vision = pd.concat([win,lose])\n",
    "\n",
    "merge_vision = merge_vision.rename(columns={0 : '시야 점수'})"
   ]
  },
  {
   "cell_type": "code",
   "execution_count": 12,
   "metadata": {},
   "outputs": [],
   "source": [
    "merge_vision = merge_vision.reset_index(drop=True)"
   ]
  },
  {
   "cell_type": "code",
   "execution_count": 13,
   "metadata": {},
   "outputs": [],
   "source": [
    "merge_vision.index=['Win', 'Lose']\n",
    "\n",
    "merge_vision = merge_vision.rename(columns={0 : '시야 점수'})"
   ]
  },
  {
   "cell_type": "code",
   "execution_count": 14,
   "metadata": {},
   "outputs": [
    {
     "data": {
      "text/html": [
       "<div>\n",
       "<style scoped>\n",
       "    .dataframe tbody tr th:only-of-type {\n",
       "        vertical-align: middle;\n",
       "    }\n",
       "\n",
       "    .dataframe tbody tr th {\n",
       "        vertical-align: top;\n",
       "    }\n",
       "\n",
       "    .dataframe thead th {\n",
       "        text-align: right;\n",
       "    }\n",
       "</style>\n",
       "<table border=\"1\" class=\"dataframe\">\n",
       "  <thead>\n",
       "    <tr style=\"text-align: right;\">\n",
       "      <th></th>\n",
       "      <th>시야 점수</th>\n",
       "    </tr>\n",
       "  </thead>\n",
       "  <tbody>\n",
       "    <tr>\n",
       "      <th>Win</th>\n",
       "      <td>28.4328</td>\n",
       "    </tr>\n",
       "    <tr>\n",
       "      <th>Lose</th>\n",
       "      <td>25.3821</td>\n",
       "    </tr>\n",
       "  </tbody>\n",
       "</table>\n",
       "</div>"
      ],
      "text/plain": [
       "        시야 점수\n",
       "Win   28.4328\n",
       "Lose  25.3821"
      ]
     },
     "execution_count": 14,
     "metadata": {},
     "output_type": "execute_result"
    }
   ],
   "source": [
    "merge_vision"
   ]
  },
  {
   "cell_type": "code",
   "execution_count": 64,
   "metadata": {},
   "outputs": [
    {
     "data": {
      "image/png": "[encoded data removed]",
      "text/plain": [
       "<Figure size 640x480 with 1 Axes>"
      ]
     },
     "metadata": {},
     "output_type": "display_data"
    }
   ],
   "source": [
    "def custom_autopct(pct):\n",
    "    # pct 값에 따라 반환할 문자열 포맷을 지정하고, fontsize를 조정합니다.\n",
    "    return '{:.2f}%'.format(pct) if pct > 0 else ''\n",
    "\n",
    "\n",
    "_, _, autotexts = plt.pie(merge_vision['시야 점수'], labels=merge_vision.index, textprops={'fontsize' :18}, autopct=lambda pct: custom_autopct(pct), startangle=140, colors=['orange', 'skyBlue'],explode=[0, 0.05], shadow=True)\n",
    "\n",
    "\n",
    "# plt.pie(merge_vision['시야 점수'], labels=merge_vision.index, autopct=lambda pct: custom_autopct(pct),startangle=140, colors=['orange', 'skyBlue'],explode=[0, 0.05], shadow=True)\n",
    "\n",
    "\n",
    "# 반환된 텍스트 객체들의 fontsize를 조정합니다.\n",
    "for autotext in autotexts:\n",
    "    autotext.set_fontsize(18)\n",
    "\n",
    "plt.axis('equal')  # 원형으로 만들기\n",
    "plt.title('Total Vision Score', fontsize=25)\n",
    "plt.show()"
   ]
  },
  {
   "cell_type": "code",
   "execution_count": null,
   "metadata": {},
   "outputs": [],
   "source": []
  },
  {
   "cell_type": "markdown",
   "metadata": {},
   "source": [
    "# High Tier vision score"
   ]
  },
  {
   "cell_type": "code",
   "execution_count": 41,
   "metadata": {},
   "outputs": [],
   "source": [
    "cursor.execute(\"SELECT AVG(visionscore) from match_data where win like '1' and ranking like 'high'\")\n",
    "\n",
    "high_vision = cursor.fetchall()"
   ]
  },
  {
   "cell_type": "code",
   "execution_count": 42,
   "metadata": {},
   "outputs": [],
   "source": [
    "cursor.execute(\"SELECT AVG(visionscore) from match_data where win like '0' and ranking like 'high'\")\n",
    "\n",
    "low_vision = cursor.fetchall()"
   ]
  },
  {
   "cell_type": "code",
   "execution_count": 43,
   "metadata": {},
   "outputs": [
    {
     "data": {
      "text/html": [
       "<div>\n",
       "<style scoped>\n",
       "    .dataframe tbody tr th:only-of-type {\n",
       "        vertical-align: middle;\n",
       "    }\n",
       "\n",
       "    .dataframe tbody tr th {\n",
       "        vertical-align: top;\n",
       "    }\n",
       "\n",
       "    .dataframe thead th {\n",
       "        text-align: right;\n",
       "    }\n",
       "</style>\n",
       "<table border=\"1\" class=\"dataframe\">\n",
       "  <thead>\n",
       "    <tr style=\"text-align: right;\">\n",
       "      <th></th>\n",
       "      <th>0</th>\n",
       "    </tr>\n",
       "  </thead>\n",
       "  <tbody>\n",
       "    <tr>\n",
       "      <th>0</th>\n",
       "      <td>28.4718</td>\n",
       "    </tr>\n",
       "  </tbody>\n",
       "</table>\n",
       "</div>"
      ],
      "text/plain": [
       "         0\n",
       "0  28.4718"
      ]
     },
     "execution_count": 43,
     "metadata": {},
     "output_type": "execute_result"
    }
   ],
   "source": [
    "high_df = pd.DataFrame(high_vision)\n",
    "\n",
    "high_df"
   ]
  },
  {
   "cell_type": "code",
   "execution_count": 44,
   "metadata": {},
   "outputs": [
    {
     "data": {
      "text/html": [
       "<div>\n",
       "<style scoped>\n",
       "    .dataframe tbody tr th:only-of-type {\n",
       "        vertical-align: middle;\n",
       "    }\n",
       "\n",
       "    .dataframe tbody tr th {\n",
       "        vertical-align: top;\n",
       "    }\n",
       "\n",
       "    .dataframe thead th {\n",
       "        text-align: right;\n",
       "    }\n",
       "</style>\n",
       "<table border=\"1\" class=\"dataframe\">\n",
       "  <thead>\n",
       "    <tr style=\"text-align: right;\">\n",
       "      <th></th>\n",
       "      <th>0</th>\n",
       "    </tr>\n",
       "  </thead>\n",
       "  <tbody>\n",
       "    <tr>\n",
       "      <th>0</th>\n",
       "      <td>25.4316</td>\n",
       "    </tr>\n",
       "  </tbody>\n",
       "</table>\n",
       "</div>"
      ],
      "text/plain": [
       "         0\n",
       "0  25.4316"
      ]
     },
     "execution_count": 44,
     "metadata": {},
     "output_type": "execute_result"
    }
   ],
   "source": [
    "low_df = pd.DataFrame(low_vision)\n",
    "\n",
    "low_df"
   ]
  },
  {
   "cell_type": "code",
   "execution_count": 45,
   "metadata": {},
   "outputs": [
    {
     "data": {
      "text/html": [
       "<div>\n",
       "<style scoped>\n",
       "    .dataframe tbody tr th:only-of-type {\n",
       "        vertical-align: middle;\n",
       "    }\n",
       "\n",
       "    .dataframe tbody tr th {\n",
       "        vertical-align: top;\n",
       "    }\n",
       "\n",
       "    .dataframe thead th {\n",
       "        text-align: right;\n",
       "    }\n",
       "</style>\n",
       "<table border=\"1\" class=\"dataframe\">\n",
       "  <thead>\n",
       "    <tr style=\"text-align: right;\">\n",
       "      <th></th>\n",
       "      <th>0</th>\n",
       "    </tr>\n",
       "  </thead>\n",
       "  <tbody>\n",
       "    <tr>\n",
       "      <th>0</th>\n",
       "      <td>28.4718</td>\n",
       "    </tr>\n",
       "    <tr>\n",
       "      <th>0</th>\n",
       "      <td>25.4316</td>\n",
       "    </tr>\n",
       "  </tbody>\n",
       "</table>\n",
       "</div>"
      ],
      "text/plain": [
       "         0\n",
       "0  28.4718\n",
       "0  25.4316"
      ]
     },
     "execution_count": 45,
     "metadata": {},
     "output_type": "execute_result"
    }
   ],
   "source": [
    "merge_vision = pd.concat([high_df,low_df])\n",
    "\n",
    "merge_vision\n",
    "\n"
   ]
  },
  {
   "cell_type": "code",
   "execution_count": 46,
   "metadata": {},
   "outputs": [
    {
     "data": {
      "text/html": [
       "<div>\n",
       "<style scoped>\n",
       "    .dataframe tbody tr th:only-of-type {\n",
       "        vertical-align: middle;\n",
       "    }\n",
       "\n",
       "    .dataframe tbody tr th {\n",
       "        vertical-align: top;\n",
       "    }\n",
       "\n",
       "    .dataframe thead th {\n",
       "        text-align: right;\n",
       "    }\n",
       "</style>\n",
       "<table border=\"1\" class=\"dataframe\">\n",
       "  <thead>\n",
       "    <tr style=\"text-align: right;\">\n",
       "      <th></th>\n",
       "      <th>시야 점수</th>\n",
       "    </tr>\n",
       "  </thead>\n",
       "  <tbody>\n",
       "    <tr>\n",
       "      <th>Win</th>\n",
       "      <td>28.4718</td>\n",
       "    </tr>\n",
       "    <tr>\n",
       "      <th>Lose</th>\n",
       "      <td>25.4316</td>\n",
       "    </tr>\n",
       "  </tbody>\n",
       "</table>\n",
       "</div>"
      ],
      "text/plain": [
       "        시야 점수\n",
       "Win   28.4718\n",
       "Lose  25.4316"
      ]
     },
     "execution_count": 46,
     "metadata": {},
     "output_type": "execute_result"
    }
   ],
   "source": [
    "merge_vision = pd.concat([high_df,low_df])\n",
    "\n",
    "merge_vision = merge_vision.rename(columns={0 : '시야 점수'})\n",
    "\n",
    "merge_vision.index=['Win', 'Lose']\n",
    "\n",
    "merge_vision"
   ]
  },
  {
   "cell_type": "code",
   "execution_count": 47,
   "metadata": {},
   "outputs": [
    {
     "data": {
      "image/png": "[encoded data removed]",
      "text/plain": [
       "<Figure size 640x480 with 1 Axes>"
      ]
     },
     "metadata": {},
     "output_type": "display_data"
    }
   ],
   "source": [
    "plt.pie(merge_vision['시야 점수'], labels=merge_vision.index, autopct='%1.2f%%', startangle=140, colors=['orange', 'skyBlue'],explode=[0, 0.05], shadow=True)\n",
    "plt.axis('equal')  # 원형으로 만들기\n",
    "plt.title('High Tier Vision Score ')\n",
    "plt.show()"
   ]
  },
  {
   "cell_type": "markdown",
   "metadata": {},
   "source": [
    "# Low Tier vision score"
   ]
  },
  {
   "cell_type": "code",
   "execution_count": 48,
   "metadata": {},
   "outputs": [],
   "source": [
    "cursor.execute(\"SELECT AVG(visionscore) from match_data where win like '1' and ranking like 'low'\")\n",
    "\n",
    "high_vision2 = cursor.fetchall()"
   ]
  },
  {
   "cell_type": "code",
   "execution_count": 49,
   "metadata": {},
   "outputs": [],
   "source": [
    "cursor.execute(\"SELECT AVG(visionscore) from match_data where win like '0' and ranking like 'low'\")\n",
    "\n",
    "low_vision2 = cursor.fetchall()"
   ]
  },
  {
   "cell_type": "code",
   "execution_count": 50,
   "metadata": {},
   "outputs": [],
   "source": [
    "hv = pd.DataFrame(high_vision2)\n",
    "\n",
    "lv = pd.DataFrame(low_vision2)"
   ]
  },
  {
   "cell_type": "code",
   "execution_count": 51,
   "metadata": {},
   "outputs": [
    {
     "data": {
      "text/html": [
       "<div>\n",
       "<style scoped>\n",
       "    .dataframe tbody tr th:only-of-type {\n",
       "        vertical-align: middle;\n",
       "    }\n",
       "\n",
       "    .dataframe tbody tr th {\n",
       "        vertical-align: top;\n",
       "    }\n",
       "\n",
       "    .dataframe thead th {\n",
       "        text-align: right;\n",
       "    }\n",
       "</style>\n",
       "<table border=\"1\" class=\"dataframe\">\n",
       "  <thead>\n",
       "    <tr style=\"text-align: right;\">\n",
       "      <th></th>\n",
       "      <th>시야 점수</th>\n",
       "    </tr>\n",
       "  </thead>\n",
       "  <tbody>\n",
       "    <tr>\n",
       "      <th>Win</th>\n",
       "      <td>28.3966</td>\n",
       "    </tr>\n",
       "    <tr>\n",
       "      <th>Lose</th>\n",
       "      <td>25.3361</td>\n",
       "    </tr>\n",
       "  </tbody>\n",
       "</table>\n",
       "</div>"
      ],
      "text/plain": [
       "        시야 점수\n",
       "Win   28.3966\n",
       "Lose  25.3361"
      ]
     },
     "execution_count": 51,
     "metadata": {},
     "output_type": "execute_result"
    }
   ],
   "source": [
    "merge_vision2 = pd.concat([hv,lv])\n",
    "\n",
    "merge_vision2 = merge_vision2.rename(columns={0 : '시야 점수'})\n",
    "\n",
    "merge_vision2.index=['Win', 'Lose']\n",
    "\n",
    "merge_vision2"
   ]
  },
  {
   "cell_type": "code",
   "execution_count": 52,
   "metadata": {},
   "outputs": [
    {
     "data": {
      "image/png": "[encoded data removed]",
      "text/plain": [
       "<Figure size 640x480 with 1 Axes>"
      ]
     },
     "metadata": {},
     "output_type": "display_data"
    }
   ],
   "source": [
    "plt.pie(merge_vision2['시야 점수'], labels=merge_vision2.index, autopct='%1.2f%%', startangle=140, colors=['orange', 'skyBlue'],explode=[0, 0.05], shadow=True)\n",
    "plt.axis('equal')  # 원형으로 만들기\n",
    "plt.title('Low Tier Vision Score ')\n",
    "plt.show()"
   ]
  },
  {
   "cell_type": "code",
   "execution_count": 53,
   "metadata": {},
   "outputs": [],
   "source": [
    "cursor.execute(\"SELECT AVG(visionscore) from match_data where win like '1' and ranking like 'high'\")\n",
    "\n",
    "high_vision3 = cursor.fetchall()"
   ]
  },
  {
   "cell_type": "code",
   "execution_count": 54,
   "metadata": {},
   "outputs": [],
   "source": [
    "cursor.execute(\"SELECT AVG(visionscore) from match_data where win like '0' and ranking like 'high'\")\n",
    "\n",
    "low_vision3 = cursor.fetchall()"
   ]
  },
  {
   "cell_type": "code",
   "execution_count": 55,
   "metadata": {},
   "outputs": [],
   "source": [
    "hv2 = pd.DataFrame(high_vision3)\n",
    "\n",
    "lv2 = pd.DataFrame(low_vision3)"
   ]
  },
  {
   "cell_type": "code",
   "execution_count": 56,
   "metadata": {},
   "outputs": [
    {
     "data": {
      "text/html": [
       "<div>\n",
       "<style scoped>\n",
       "    .dataframe tbody tr th:only-of-type {\n",
       "        vertical-align: middle;\n",
       "    }\n",
       "\n",
       "    .dataframe tbody tr th {\n",
       "        vertical-align: top;\n",
       "    }\n",
       "\n",
       "    .dataframe thead th {\n",
       "        text-align: right;\n",
       "    }\n",
       "</style>\n",
       "<table border=\"1\" class=\"dataframe\">\n",
       "  <thead>\n",
       "    <tr style=\"text-align: right;\">\n",
       "      <th></th>\n",
       "      <th>시야 점수</th>\n",
       "    </tr>\n",
       "  </thead>\n",
       "  <tbody>\n",
       "    <tr>\n",
       "      <th>Win</th>\n",
       "      <td>28.4718</td>\n",
       "    </tr>\n",
       "    <tr>\n",
       "      <th>Lose</th>\n",
       "      <td>25.4316</td>\n",
       "    </tr>\n",
       "  </tbody>\n",
       "</table>\n",
       "</div>"
      ],
      "text/plain": [
       "        시야 점수\n",
       "Win   28.4718\n",
       "Lose  25.4316"
      ]
     },
     "execution_count": 56,
     "metadata": {},
     "output_type": "execute_result"
    }
   ],
   "source": [
    "merge_vision3 = pd.concat([hv2,lv2])\n",
    "\n",
    "merge_vision3 = merge_vision3.rename(columns={0 : '시야 점수'})\n",
    "\n",
    "merge_vision3.index=['Win', 'Lose']\n",
    "\n",
    "merge_vision3"
   ]
  },
  {
   "cell_type": "code",
   "execution_count": 62,
   "metadata": {},
   "outputs": [
    {
     "data": {
      "image/png": "[encoded data removed]",
      "text/plain": [
       "<Figure size 1000x500 with 2 Axes>"
      ]
     },
     "metadata": {},
     "output_type": "display_data"
    }
   ],
   "source": [
    "plt.figure(figsize=(10, 5))\n",
    "\n",
    "\n",
    "# plt.subplot(1, 2, 1)\n",
    "# plt.pie(merge_vision['시야 점수'], labels=merge_vision.index, autopct='%1.2f%%', startangle=140, colors=['orange', 'skyBlue'],explode=[0, 0.05], shadow=True)\n",
    "# plt.axis('equal')  \n",
    "# plt.title('Total Vision Score ')\n",
    "\n",
    "\n",
    "plt.subplot(1, 2, 1)\n",
    "_, _, autotexts = plt.pie(merge_vision3['시야 점수'], labels=merge_vision3.index,textprops={'fontsize' :18}, autopct=lambda pct: custom_autopct(pct), startangle=140, colors=['orange', 'skyBlue'],explode=[0, 0.05], shadow=True)\n",
    "plt.axis('equal')  # 원형으로 만들기\n",
    "plt.title('High Tier Vision Score', fontsize=25)\n",
    "\n",
    "for autotext in autotexts:\n",
    "    autotext.set_fontsize(18)\n",
    "\n",
    "plt.subplot(1, 2, 2)\n",
    "_, _, autotexts2 = plt.pie(merge_vision2['시야 점수'], labels=merge_vision2.index,textprops={'fontsize' :18}, autopct=lambda pct: custom_autopct(pct), startangle=140, colors=['orange', 'skyBlue'],explode=[0, 0.05], shadow=True)\n",
    "plt.axis('equal')  # 원형으로 만들기\n",
    "plt.title('Low Tier Vision Score', fontsize=25)\n",
    "\n",
    "for autotext1 in autotexts2:\n",
    "    autotext1.set_fontsize(18)\n",
    "\n",
    "plt.show()"
   ]
  }
 ],
 "metadata": {
  "kernelspec": {
   "display_name": "eda_venv",
   "language": "python",
   "name": "python3"
  },
  "language_info": {
   "codemirror_mode": {
    "name": "ipython",
    "version": 3
   },
   "file_extension": ".py",
   "mimetype": "text/x-python",
   "name": "python",
   "nbconvert_exporter": "python",
   "pygments_lexer": "ipython3",
   "version": "3.10.12"
  }
 },
 "nbformat": 4,
 "nbformat_minor": 2
}
