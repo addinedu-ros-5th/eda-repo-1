{
 "cells": [
  {
   "cell_type": "code",
   "execution_count": null,
   "metadata": {},
   "outputs": [],
   "source": [
    "import pandas as pd\n",
    "import json"
   ]
  },
  {
   "cell_type": "code",
   "execution_count": null,
   "metadata": {},
   "outputs": [],
   "source": [
    "with open(\"./championlist.json\",\"r\") as f:\n",
    "    all_champion_data = json.load(f)['data']\n",
    "champion_list = list(all_champion_data.keys())"
   ]
  },
  {
   "cell_type": "code",
   "execution_count": null,
   "metadata": {},
   "outputs": [],
   "source": [
    "all_champion_tags = []\n",
    "\n",
    "for i in range(len(champion_list)) :\n",
    "    champion_tags = []\n",
    "    champion_tags.append(champion_list[i])\n",
    "    tags = all_champion_data[champion_list[i]]['tags']\n",
    "    for n in range(len(tags)) : \n",
    "        champion_tags.append(tags[n])\n",
    "    all_champion_tags.append(champion_tags)\n",
    "    \n",
    "all_champion_tags"
   ]
  },
  {
   "cell_type": "code",
   "execution_count": null,
   "metadata": {},
   "outputs": [],
   "source": [
    "DF = pd.DataFrame(all_champion_tags)\n",
    "DF"
   ]
  },
  {
   "cell_type": "code",
   "execution_count": null,
   "metadata": {},
   "outputs": [],
   "source": [
    "import mysql.connector\n",
    "import pandas as pd\n",
    "eda = mysql.connector.Connect(\n",
    "    host = \"database-1.c96mmei8egml.ap-northeast-2.rds.amazonaws.com\",\n",
    "    port = \"3306\",\n",
    "    user = \"eda_yc\",\n",
    "    password = \"yc\",\n",
    "    database = \"eda_project\"\n",
    ")\n",
    "cursor = eda.cursor()"
   ]
  },
  {
   "cell_type": "code",
   "execution_count": null,
   "metadata": {},
   "outputs": [],
   "source": [
    "cursor = eda.cursor(buffered=True)\n",
    "sql = \"INSERT INTO champion_tags VALUES (%s, %s, %s)\"\n",
    "for i, row in DF.iterrows():\n",
    "    cursor.execute(sql, tuple(row))\n",
    "    print(tuple(row))\n",
    "    eda.commit()"
   ]
  },
  {
   "cell_type": "code",
   "execution_count": null,
   "metadata": {},
   "outputs": [],
   "source": []
  }
 ],
 "metadata": {
  "kernelspec": {
   "display_name": "eda_venv",
   "language": "python",
   "name": "python3"
  },
  "language_info": {
   "codemirror_mode": {
    "name": "ipython",
    "version": 3
   },
   "file_extension": ".py",
   "mimetype": "text/x-python",
   "name": "python",
   "nbconvert_exporter": "python",
   "pygments_lexer": "ipython3",
   "version": "3.10.12"
  }
 },
 "nbformat": 4,
 "nbformat_minor": 2
}
