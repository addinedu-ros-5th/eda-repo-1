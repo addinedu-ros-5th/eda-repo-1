{
 "cells": [
  {
   "cell_type": "code",
   "execution_count": null,
   "metadata": {},
   "outputs": [],
   "source": [
    "import matplotlib.pyplot as plt\n",
    "import pandas as pd\n",
    "import numpy as np\n",
    "import math"
   ]
  },
  {
   "cell_type": "code",
   "execution_count": null,
   "metadata": {},
   "outputs": [],
   "source": [
    "Keywords = [\n",
    "    'teamId',\n",
    "    'summonerName',\n",
    "    'individualPosition',\n",
    "    'lane',\n",
    "    'championId',\n",
    "    'championName',\n",
    "    'champLevel',\n",
    "    \n",
    "    ###### KDA\n",
    "    'kills',\n",
    "    'deaths',\n",
    "    'assists',\n",
    "\n",
    "    ###### Pings\n",
    "    'commandPings',\n",
    "    'assistMePings',\n",
    "    'enemyMissingPings',\n",
    "    'getBackPings',\n",
    "    'dangerPings',\n",
    "    'onMyWayPings',\n",
    "\n",
    "    ####### vision\n",
    "    'visionScore',\n",
    "\n",
    "    #gamedata\n",
    "    'win'\n",
    "]\n",
    "\n",
    "challenge_Keywords = [\n",
    "    'stealthWardsPlaced',\n",
    "    'controlWardsPlaced',\n",
    "]\n",
    "\n",
    "team_keywords = [\n",
    "    'baron',\n",
    "    'dragon',\n",
    "    'horde',\n",
    "    'riftHerald',\n",
    "    'tower'\n",
    "]"
   ]
  },
  {
   "cell_type": "code",
   "execution_count": null,
   "metadata": {},
   "outputs": [],
   "source": [
    "import mysql.connector\n",
    "import pandas as pd\n",
    "eda = mysql.connector.Connect(\n",
    "    host = \"database-1.c96mmei8egml.ap-northeast-2.rds.amazonaws.com\",\n",
    "    port = \"3306\",\n",
    "    user = \"eda_yc\",\n",
    "    password = \"yc\",\n",
    "    database = \"eda_project\"\n",
    ")\n",
    "cursor = eda.cursor()"
   ]
  },
  {
   "cell_type": "code",
   "execution_count": null,
   "metadata": {},
   "outputs": [],
   "source": [
    "cursor.execute(\"SELECT matchId, teamId, SUM(commandPings), SUM(assistMePings), SUM(enemyMissingPings), SUM(getBackPings), SUM(onMyWayPings), SUM(commandPings)+ SUM(assistMePings)+ SUM(enemyMissingPings)+ SUM(getBackPings)+ SUM(onMyWayPings),win FROM match_data Group By matchId, teamId\" )\n",
    "result = cursor.fetchall()\n",
    "for result_iterator in result:\n",
    "    print(result_iterator)"
   ]
  },
  {
   "cell_type": "code",
   "execution_count": null,
   "metadata": {},
   "outputs": [],
   "source": [
    "df = pd.DataFrame(result)\n",
    "df.columns = ['matchId', 'teamId', 'Ping', 'help', 'mia', 'back', 'going', 'sum', 'win']\n",
    "df.dropna(axis=0)\n",
    "df.sort_values('sum', ascending=False)"
   ]
  },
  {
   "cell_type": "code",
   "execution_count": null,
   "metadata": {},
   "outputs": [],
   "source": [
    "df['root'] = df['sum'].astype(float) ** 0.5\n",
    "df['ping_range'] = df['root'] // 2 * 2\n",
    "df['ping_range'] = df['ping_range']\n",
    "graph = df.groupby(['ping_range']).apply(lambda x: x['win'].mean()).reset_index(name='win_rate')"
   ]
  },
  {
   "cell_type": "code",
   "execution_count": null,
   "metadata": {},
   "outputs": [],
   "source": [
    "plt.plot(graph['ping_range'], graph['win_rate'])\n",
    "plt.title(\"win rate by Team Pinging\")\n",
    "plt.xlabel(\"Ping\")\n",
    "plt.ylim(0, 1)\n",
    "plt.ylabel(\"win rate\")\n",
    "plt.axhline(y=0.5, color='r', linestyle='--')\n",
    "plt.axvline(x=10, color='r', linestyle='--')\n",
    "plt.show()"
   ]
  }
 ],
 "metadata": {
  "kernelspec": {
   "display_name": "eda_venv",
   "language": "python",
   "name": "python3"
  },
  "language_info": {
   "codemirror_mode": {
    "name": "ipython",
    "version": 3
   },
   "file_extension": ".py",
   "mimetype": "text/x-python",
   "name": "python",
   "nbconvert_exporter": "python",
   "pygments_lexer": "ipython3",
   "version": "3.10.12"
  }
 },
 "nbformat": 4,
 "nbformat_minor": 2
}
