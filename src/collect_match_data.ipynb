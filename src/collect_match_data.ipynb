{
 "cells": [
  {
   "cell_type": "code",
   "execution_count": null,
   "metadata": {},
   "outputs": [],
   "source": [
    "import time\n",
    "import requests\n",
    "import pandas as pd\n",
    "\n",
    "from datetime import datetime\n",
    "from tqdm.notebook import tqdm\n",
    "from user_agent import generate_user_agent\n"
   ]
  },
  {
   "cell_type": "markdown",
   "metadata": {},
   "source": [
    "#### Collect Data"
   ]
  },
  {
   "cell_type": "code",
   "execution_count": null,
   "metadata": {},
   "outputs": [],
   "source": [
    "user_agents = generate_user_agent()\n",
    "api_key = \"RGAPI-6b662dab-1426-4c62-a5e5-b01e9eb2ed3e\"\n",
    "header = {\n",
    "          \"User-Agent\" : user_agents,\n",
    "          \"Accept-Language\": \"ko-KR,ko;q=0.9,en;q=0.8\",\n",
    "          \"Accept-Charset\": \"application/x-www-form-urlencoded; charset=UTF-8\",\n",
    "          \"Origin\": \"https://developer.riotgames.com\",\n",
    "          \"X-Riot-Token\": api_key\n",
    "}"
   ]
  },
  {
   "cell_type": "code",
   "execution_count": null,
   "metadata": {},
   "outputs": [],
   "source": [
    "def league_v4(tier):\n",
    "    queue = \"RANKED_SOLO_5x5\"\n",
    "\n",
    "    if tier == \"challenger\":\n",
    "        url = f\"https://kr.api.riotgames.com/lol/league/v4/{tier}leagues/by-queue/{queue}\"\n",
    "    elif tier == \"grandmaster\":\n",
    "        url = f\"https://kr.api.riotgames.com/lol/league/v4/{tier}leagues/by-queue/{queue}\"\n",
    "    else:\n",
    "        url = f\"https://kr.api.riotgames.com/lol/league/v4/{tier}leagues/by-queue/{queue}\"\n",
    "\n",
    "    return requests.get(url, headers=header)"
   ]
  },
  {
   "cell_type": "code",
   "execution_count": null,
   "metadata": {},
   "outputs": [],
   "source": [
    "req = league_v4(\"master\")\n",
    "\n",
    "if req.status_code == 200:\n",
    "    data = req.json()[\"entries\"]\n",
    "\n",
    "    summonerId = [item[\"summonerId\"] for item in data]\n",
    "else:\n",
    "    print(req.status_code)\n",
    "\n",
    "len(summonerId)"
   ]
  },
  {
   "cell_type": "markdown",
   "metadata": {},
   "source": [
    "#### 소환사 범위 정하기"
   ]
  },
  {
   "cell_type": "code",
   "execution_count": null,
   "metadata": {},
   "outputs": [],
   "source": [
    "resize_summonerId = summonerId[0:100]\n",
    "len(resize_summonerId)"
   ]
  },
  {
   "cell_type": "code",
   "execution_count": null,
   "metadata": {},
   "outputs": [],
   "source": [
    "def summoner_v4(encryptedSummonerId):\n",
    "    url = f\"https://kr.api.riotgames.com/lol/summoner/v4/summoners/{encryptedSummonerId}\"\n",
    "\n",
    "    return requests.get(url, headers=header)"
   ]
  },
  {
   "cell_type": "code",
   "execution_count": null,
   "metadata": {},
   "outputs": [],
   "source": [
    "puuId = []\n",
    "for _summonerId in tqdm(resize_summonerId):\n",
    "    req = summoner_v4(_summonerId)\n",
    "\n",
    "    if req.status_code == 200:\n",
    "        data = req.json()\n",
    "\n",
    "        puuId.append(data[\"puuid\"])\n",
    "    else:\n",
    "        print(req.status_code)\n",
    "    time.sleep(1.3)\n",
    "len(puuId)"
   ]
  },
  {
   "cell_type": "code",
   "execution_count": null,
   "metadata": {},
   "outputs": [],
   "source": [
    "def match_v5(puuid, startTime, endTime, type, start, count):\n",
    "    url = f\"https://asia.api.riotgames.com/lol/match/v5/matches/by-puuid/{puuid}/ids?startTime={startTime}&endTime={endTime}&type={type}&start={start}&count={count}\"\n",
    "    \n",
    "    return requests.get(url, headers=header)"
   ]
  },
  {
   "cell_type": "code",
   "execution_count": null,
   "metadata": {},
   "outputs": [],
   "source": [
    "startTime = int(datetime(2023, 2, 1, 0, 0, 0).timestamp())\n",
    "endTime = int(datetime(2023, 12, 31, 23, 59, 59).timestamp())\n",
    "type = 'ranked'\n",
    "startTime, endTime"
   ]
  },
  {
   "cell_type": "code",
   "execution_count": null,
   "metadata": {},
   "outputs": [],
   "source": [
    "matchId = []\n",
    "\n",
    "for _puuId in tqdm(puuId):\n",
    "    req = match_v5(_puuId, startTime, endTime, type, 0, 100)\n",
    "\n",
    "    if req.status_code == 200:\n",
    "        data = req.json()\n",
    "        matchId.append(data)\n",
    "    else:\n",
    "        print(req.status_code)\n",
    "    time.sleep(1.3)\n",
    "len(matchId), print(matchId)"
   ]
  },
  {
   "cell_type": "code",
   "execution_count": null,
   "metadata": {},
   "outputs": [],
   "source": [
    "def matchData(matchId):\n",
    "    url = f\"https://asia.api.riotgames.com/lol/match/v5/matches/{matchId}\"\n",
    "\n",
    "    return requests.get(url, headers=header)"
   ]
  },
  {
   "cell_type": "code",
   "execution_count": null,
   "metadata": {},
   "outputs": [],
   "source": [
    "match_data = []\n",
    "for matchIds in tqdm(matchId):\n",
    "    for _matchId in matchIds:\n",
    "        req = matchData(_matchId)\n",
    "        if req.status_code == 200:\n",
    "            data = req.json()\n",
    "            match_data.append(data)\n",
    "        else:\n",
    "            print(req.status_code)\n",
    "            break\n",
    "        time.sleep(1.3)\n",
    "len(match_data)"
   ]
  },
  {
   "cell_type": "code",
   "execution_count": null,
   "metadata": {},
   "outputs": [],
   "source": [
    "match_data"
   ]
  }
 ],
 "metadata": {
  "kernelspec": {
   "display_name": "eda_venv",
   "language": "python",
   "name": "python3"
  },
  "language_info": {
   "codemirror_mode": {
    "name": "ipython",
    "version": 3
   },
   "file_extension": ".py",
   "mimetype": "text/x-python",
   "name": "python",
   "nbconvert_exporter": "python",
   "pygments_lexer": "ipython3",
   "version": "3.10.12"
  }
 },
 "nbformat": 4,
 "nbformat_minor": 2
}
